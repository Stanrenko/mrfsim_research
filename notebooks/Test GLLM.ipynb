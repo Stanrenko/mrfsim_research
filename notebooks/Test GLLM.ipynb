{
 "cells": [
  {
   "cell_type": "code",
   "execution_count": 193,
   "id": "ae2f21ce",
   "metadata": {},
   "outputs": [],
   "source": [
    "import numpy as np \n",
    "import matplotlib.pyplot as plt\n",
    "from scipy.stats import multivariate_normal\n",
    "from tqdm import tqdm"
   ]
  },
  {
   "cell_type": "code",
   "execution_count": 2,
   "id": "db3d0e75",
   "metadata": {},
   "outputs": [],
   "source": [
    "def get_random_psd(n):\n",
    "    x = np.random.normal(0, 1, size=(n, n))\n",
    "    return np.dot(x, x.transpose())\n",
    "\n",
    "\n",
    "def initialize_random_params():\n",
    "    params = {'phi': np.random.uniform(0, 1),\n",
    "              'mu0': np.random.normal(0, 1, size=(2,)),\n",
    "              'mu1': np.random.normal(0, 1, size=(2,)),\n",
    "              'sigma0': get_random_psd(2),\n",
    "              'sigma1': get_random_psd(2)}\n",
    "    return params"
   ]
  },
  {
   "cell_type": "code",
   "execution_count": 3,
   "id": "4bbe8c02",
   "metadata": {},
   "outputs": [],
   "source": [
    "params = initialize_random_params()"
   ]
  },
  {
   "cell_type": "code",
   "execution_count": 4,
   "id": "9355a428",
   "metadata": {},
   "outputs": [
    {
     "data": {
      "text/plain": [
       "{'phi': 0.7987012626117604,\n",
       " 'mu0': array([-1.25529633,  1.19188651]),\n",
       " 'mu1': array([-0.49233921, -0.06333992]),\n",
       " 'sigma0': array([[1.8450409 , 0.70832431],\n",
       "        [0.70832431, 0.59132029]]),\n",
       " 'sigma1': array([[2.1552165 , 0.74829504],\n",
       "        [0.74829504, 1.13175248]])}"
      ]
     },
     "execution_count": 4,
     "metadata": {},
     "output_type": "execute_result"
    }
   ],
   "source": [
    "params"
   ]
  },
  {
   "cell_type": "code",
   "execution_count": null,
   "id": "b64651f6",
   "metadata": {},
   "outputs": [],
   "source": [
    "x_unlabeled="
   ]
  },
  {
   "cell_type": "code",
   "execution_count": null,
   "id": "76b1efd4",
   "metadata": {},
   "outputs": [],
   "source": []
  },
  {
   "cell_type": "code",
   "execution_count": 5,
   "id": "0764f53d",
   "metadata": {},
   "outputs": [],
   "source": [
    "#%load_ext autoreload\n",
    "#%autoreload 2\n",
    "\n",
    "\n",
    "import sys\n",
    "sys.path.append(\"../../mrf-sim/\")\n",
    "sys.path.append(\"../../epgpy/\")\n",
    "sys.path.append(\"../../machines/\")\n",
    "sys.path.append(\"../../mutools/\")\n",
    "sys.path.append(\"../../dicomstack/\")\n",
    "\n",
    "#import matplotlib\n",
    "#matplotlib.use(\"TkAgg\")\n",
    "from mrfsim import T1MRF\n",
    "from image_series import *\n",
    "from utils_mrf import regression_paramMaps_ROI,buildROImask,plot_evolution_params,compare_paramMaps\n",
    "import json\n",
    "from finufft import nufft1d1,nufft1d2\n",
    "from scipy import signal,interpolate\n",
    "import os\n",
    "os.environ['KMP_DUPLICATE_LIB_OK']='True'\n",
    "import matplotlib.pyplot as plt\n",
    "import numpy as np\n",
    "from movements import *\n",
    "from dictoptimizers import *\n",
    "\n",
    "%matplotlib inline"
   ]
  },
  {
   "cell_type": "code",
   "execution_count": 6,
   "id": "3470428c",
   "metadata": {},
   "outputs": [],
   "source": [
    "FF_list=list(np.arange(0.,1.05,0.05))"
   ]
  },
  {
   "cell_type": "code",
   "execution_count": 8,
   "id": "3369ef72",
   "metadata": {},
   "outputs": [],
   "source": [
    "dict_file=r\"../mrf175_SimReco2.dict\"\n",
    "keys,signals = read_mrf_dict(dict_file ,FF_list ,aggregate_components=True)"
   ]
  },
  {
   "cell_type": "code",
   "execution_count": 11,
   "id": "ac21bd9d",
   "metadata": {},
   "outputs": [
    {
     "data": {
      "text/plain": [
       "323190"
      ]
     },
     "execution_count": 11,
     "metadata": {},
     "output_type": "execute_result"
    }
   ],
   "source": [
    "len(keys)"
   ]
  },
  {
   "cell_type": "code",
   "execution_count": 45,
   "id": "4b10109f",
   "metadata": {},
   "outputs": [],
   "source": [
    "X = np.array(np.delete(keys,1,1))"
   ]
  },
  {
   "cell_type": "code",
   "execution_count": 46,
   "id": "bdaef1b9",
   "metadata": {},
   "outputs": [
    {
     "data": {
      "text/plain": [
       "(323190, 4)"
      ]
     },
     "execution_count": 46,
     "metadata": {},
     "output_type": "execute_result"
    }
   ],
   "source": [
    "X.shape"
   ]
  },
  {
   "cell_type": "code",
   "execution_count": 18,
   "id": "c63c9d29",
   "metadata": {},
   "outputs": [],
   "source": [
    "Y=np.array(signals)"
   ]
  },
  {
   "cell_type": "code",
   "execution_count": 19,
   "id": "e56fddb8",
   "metadata": {},
   "outputs": [
    {
     "data": {
      "text/plain": [
       "(323190, 175)"
      ]
     },
     "execution_count": 19,
     "metadata": {},
     "output_type": "execute_result"
    }
   ],
   "source": [
    "Y.shape"
   ]
  },
  {
   "cell_type": "code",
   "execution_count": 47,
   "id": "c884d213",
   "metadata": {},
   "outputs": [],
   "source": [
    "X_Y=np.concatenate([X,Y],axis=-1)\n",
    "mu_X_Y = X_Y.mean(axis=0)\n",
    "sig_X_Y = X_Y.std(axis=0)"
   ]
  },
  {
   "cell_type": "code",
   "execution_count": 48,
   "id": "c58011fc",
   "metadata": {},
   "outputs": [],
   "source": [
    "X_Y_normalized = (X_Y - mu_X_Y)/sig_X_Y"
   ]
  },
  {
   "cell_type": "code",
   "execution_count": 192,
   "id": "f7f25212",
   "metadata": {},
   "outputs": [],
   "source": [
    "def pdf_multivarial_normal(x,mean,cov,hermitian=False):\n",
    "    d=mean.shape[0]\n",
    "    pinv_conv = np.linalg.pinv(cov,hermitian)\n",
    "    \n",
    "    eig_values,_ = np.linalg.eig(cov)\n",
    "    pseudo_det = np.product(eig_values[eig_values > 1e-12])\n",
    "    return (pseudo_det * 2*np.pi)**(-1/2)*np.exp(-0.5*np.sum((x-mean).conj()*((x-mean)@pinv_conv.T),axis=1))\n",
    "    \n"
   ]
  },
  {
   "cell_type": "code",
   "execution_count": 185,
   "id": "41fe28dd",
   "metadata": {},
   "outputs": [
    {
     "name": "stdout",
     "output_type": "stream",
     "text": [
      "[1. 0.]\n"
     ]
    }
   ],
   "source": [
    "x1=np.arange(0,20,0.5)\n",
    "x2=np.array([0.]*x1.shape[0])\n",
    "x=np.vstack( [x1,x2]).T\n",
    "cov=np.array([[1,0],[0,0]])\n",
    "mean=np.array([0,0])\n",
    "res=pdf_multivarial_normal(x,mean,cov)"
   ]
  },
  {
   "cell_type": "code",
   "execution_count": 187,
   "id": "9b941be8",
   "metadata": {},
   "outputs": [
    {
     "data": {
      "text/plain": [
       "array([3.98942280e-01, 3.52065327e-01, 2.41970725e-01, 1.29517596e-01,\n",
       "       5.39909665e-02, 1.75283005e-02, 4.43184841e-03, 8.72682695e-04,\n",
       "       1.33830226e-04, 1.59837411e-05, 1.48671951e-06, 1.07697600e-07,\n",
       "       6.07588285e-09, 2.66955661e-10, 9.13472041e-12, 2.43432053e-13,\n",
       "       5.05227108e-15, 8.16623563e-17, 1.02797736e-18, 1.00779354e-20,\n",
       "       7.69459863e-23, 4.57537559e-25, 2.11881925e-27, 7.64165541e-30,\n",
       "       2.14638374e-32, 4.69519536e-35, 7.99882776e-38, 1.06126881e-40,\n",
       "       1.09660656e-43, 8.82475497e-47, 5.53070955e-50, 2.69951302e-53,\n",
       "       1.02616307e-56, 3.03790170e-60, 7.00418213e-64, 1.25767238e-67,\n",
       "       1.75874954e-71, 1.91543249e-75, 1.62463604e-79, 1.07317783e-83])"
      ]
     },
     "execution_count": 187,
     "metadata": {},
     "output_type": "execute_result"
    }
   ],
   "source": [
    "res"
   ]
  },
  {
   "cell_type": "code",
   "execution_count": 188,
   "id": "c87f91b5",
   "metadata": {},
   "outputs": [
    {
     "data": {
      "text/plain": [
       "[<matplotlib.lines.Line2D at 0x7f28842069d0>]"
      ]
     },
     "execution_count": 188,
     "metadata": {},
     "output_type": "execute_result"
    },
    {
     "data": {
      "image/png": "[encoded data removed]",
      "text/plain": [
       "<Figure size 432x288 with 1 Axes>"
      ]
     },
     "metadata": {
      "needs_background": "light"
     },
     "output_type": "display_data"
    }
   ],
   "source": [
    "plt.plot(res)"
   ]
  },
  {
   "cell_type": "code",
   "execution_count": 147,
   "id": "2a3d3247",
   "metadata": {},
   "outputs": [
    {
     "data": {
      "text/plain": [
       "(40,)"
      ]
     },
     "execution_count": 147,
     "metadata": {},
     "output_type": "execute_result"
    }
   ],
   "source": [
    "(pinvc@(x-mean).T).shape"
   ]
  },
  {
   "cell_type": "code",
   "execution_count": 203,
   "id": "a4c23bfd",
   "metadata": {},
   "outputs": [],
   "source": [
    "\n",
    "\n",
    "class GMM:\n",
    "    \"\"\"\n",
    "    Full covariance Gaussian Mixture Model,\n",
    "    trained using Expectation Maximization.\n",
    "\n",
    "    Parameters\n",
    "    ----------\n",
    "    n_components : int\n",
    "        Number of clusters/mixture components in which the data will be\n",
    "        partitioned into.\n",
    "\n",
    "    n_iters : int\n",
    "        Maximum number of iterations to run the algorithm.\n",
    "\n",
    "    tol : float\n",
    "        Tolerance. If the log-likelihood between two iterations is smaller than\n",
    "        the specified tolerance level, the algorithm will stop performing the\n",
    "        EM optimization.\n",
    "\n",
    "    seed : int\n",
    "        Seed / random state used to initialize the parameters.\n",
    "    \"\"\"\n",
    "\n",
    "    def __init__(self, n_components: int, n_iters: int, tol: float, seed: int):\n",
    "        self.n_components = n_components\n",
    "        self.n_iters = n_iters\n",
    "        self.tol = tol\n",
    "        self.seed = seed\n",
    "\n",
    "    def fit(self, X):\n",
    "\n",
    "        # data's dimensionality and responsibility vector\n",
    "        n_row, n_col = X.shape     \n",
    "        self.resp = np.zeros((n_row, self.n_components),dtype=np.complex128)\n",
    "\n",
    "        # initialize parameters\n",
    "        np.random.seed(self.seed)\n",
    "        chosen = np.random.choice(n_row, self.n_components, replace = False)\n",
    "        self.means = X[chosen]\n",
    "        self.weights = np.full(self.n_components, 1 / self.n_components,dtype=np.complex128)\n",
    "        \n",
    "        # for np.cov, rowvar = False, \n",
    "        # indicates that the rows represents obervation\n",
    "        shape = self.n_components, n_col, n_col\n",
    "        self.covs = np.full(shape, np.cov(X, rowvar = False),dtype=np.complex128)\n",
    "\n",
    "        log_likelihood = 0\n",
    "        self.converged = False\n",
    "        self.log_likelihood_trace = []      \n",
    "\n",
    "        for i in tqdm(range(self.n_iters)):\n",
    "            log_likelihood_new = self._do_estep(X)\n",
    "            self._do_mstep(X)\n",
    "\n",
    "            if abs(log_likelihood_new - log_likelihood) <= self.tol:\n",
    "                self.converged = True\n",
    "                break\n",
    "  \n",
    "            log_likelihood = log_likelihood_new\n",
    "            print(log_likelihood_new)\n",
    "            self.log_likelihood_trace.append(log_likelihood)\n",
    "\n",
    "        return self\n",
    "\n",
    "    def _do_estep(self, X):\n",
    "        \"\"\"\n",
    "        E-step: compute responsibilities,\n",
    "        update resp matrix so that resp[j, k] is the responsibility of cluster k for data point j,\n",
    "        to compute likelihood of seeing data point j given cluster k, use multivariate_normal.pdf\n",
    "        \"\"\"\n",
    "        print(\"Expectation Step\")\n",
    "        self._compute_log_likelihood(X)\n",
    "        log_likelihood = np.sum(np.log(np.sum(self.resp, axis = 1)))\n",
    "\n",
    "        # normalize over all possible cluster assignments\n",
    "        self.resp = self.resp / self.resp.sum(axis = 1, keepdims = 1)\n",
    "        return log_likelihood\n",
    "\n",
    "    def _compute_log_likelihood(self, X):\n",
    "        for k in tqdm(range(self.n_components)):\n",
    "            prior = self.weights[k]\n",
    "            likelihood = pdf_multivarial_normal(X,self.means[k], self.covs[k],hermitian=True)\n",
    "            self.resp[:, k] = prior * likelihood\n",
    "\n",
    "        return self\n",
    "\n",
    "    def _do_mstep(self, X):\n",
    "        \"\"\"M-step, update parameters\"\"\"\n",
    "        print(\"Maximization Step\")\n",
    "        # total responsibility assigned to each cluster, N^{soft}\n",
    "        resp_weights = self.resp.sum(axis = 0)\n",
    "        \n",
    "        # weights\n",
    "        self.weights = resp_weights / X.shape[0]\n",
    "\n",
    "        # means\n",
    "        weighted_sum = np.dot(self.resp.T, X)\n",
    "        self.means = weighted_sum / resp_weights.reshape(-1, 1)\n",
    "        # covariance\n",
    "        for k in range(self.n_components):\n",
    "            diff = (X - self.means[k]).T\n",
    "            weighted_sum = np.dot(self.resp[:, k] * diff, diff.T)\n",
    "            self.covs[k] = weighted_sum / resp_weights[k]\n",
    "            \n",
    "        return self\n",
    "\n"
   ]
  },
  {
   "cell_type": "code",
   "execution_count": 204,
   "id": "ea693e51",
   "metadata": {},
   "outputs": [],
   "source": [
    "gmm = GMM(n_components = 20, n_iters = 10, tol = 1e-4, seed = 4)"
   ]
  },
  {
   "cell_type": "code",
   "execution_count": 205,
   "id": "72578e9f",
   "metadata": {},
   "outputs": [
    {
     "ename": "AttributeError",
     "evalue": "'GMM' object has no attribute 'covs'",
     "output_type": "error",
     "traceback": [
      "\u001b[0;31m---------------------------------------------------------------------------\u001b[0m",
      "\u001b[0;31mAttributeError\u001b[0m                            Traceback (most recent call last)",
      "\u001b[0;32m<ipython-input-205-3e68eb33295c>\u001b[0m in \u001b[0;36m<module>\u001b[0;34m\u001b[0m\n\u001b[0;32m----> 1\u001b[0;31m \u001b[0mnp\u001b[0m\u001b[0;34m.\u001b[0m\u001b[0mlinalg\u001b[0m\u001b[0;34m.\u001b[0m\u001b[0mmatrix_rank\u001b[0m\u001b[0;34m(\u001b[0m\u001b[0mgmm\u001b[0m\u001b[0;34m.\u001b[0m\u001b[0mcovs\u001b[0m\u001b[0;34m[\u001b[0m\u001b[0;36m0\u001b[0m\u001b[0;34m]\u001b[0m\u001b[0;34m)\u001b[0m\u001b[0;34m\u001b[0m\u001b[0;34m\u001b[0m\u001b[0m\n\u001b[0m",
      "\u001b[0;31mAttributeError\u001b[0m: 'GMM' object has no attribute 'covs'"
     ]
    }
   ],
   "source": [
    "np.linalg.matrix_rank(gmm.covs[0])"
   ]
  },
  {
   "cell_type": "code",
   "execution_count": 206,
   "id": "51cfc02e",
   "metadata": {},
   "outputs": [
    {
     "name": "stderr",
     "output_type": "stream",
     "text": [
      "\r",
      "  0%|          | 0/10 [00:00<?, ?it/s]"
     ]
    },
    {
     "name": "stdout",
     "output_type": "stream",
     "text": [
      "Expectation Step\n"
     ]
    },
    {
     "name": "stderr",
     "output_type": "stream",
     "text": [
      "\n",
      "  0%|          | 0/20 [00:00<?, ?it/s]\u001b[A\n",
      "  5%|▌         | 1/20 [00:01<00:22,  1.20s/it]\u001b[A\n",
      " 10%|█         | 2/20 [00:02<00:20,  1.12s/it]\u001b[A\n",
      " 15%|█▌        | 3/20 [00:03<00:18,  1.10s/it]\u001b[A\n",
      " 20%|██        | 4/20 [00:04<00:18,  1.13s/it]\u001b[A\n",
      " 25%|██▌       | 5/20 [00:05<00:16,  1.11s/it]\u001b[A\n",
      " 30%|███       | 6/20 [00:06<00:15,  1.10s/it]\u001b[A\n",
      " 35%|███▌      | 7/20 [00:07<00:14,  1.09s/it]\u001b[A\n",
      " 40%|████      | 8/20 [00:08<00:13,  1.09s/it]\u001b[A\n",
      " 45%|████▌     | 9/20 [00:09<00:11,  1.08s/it]\u001b[A\n",
      " 50%|█████     | 10/20 [00:10<00:10,  1.08s/it]\u001b[A\n",
      " 55%|█████▌    | 11/20 [00:12<00:09,  1.08s/it]\u001b[A\n",
      " 60%|██████    | 12/20 [00:13<00:08,  1.07s/it]\u001b[A\n",
      " 65%|██████▌   | 13/20 [00:14<00:07,  1.07s/it]\u001b[A\n",
      " 70%|███████   | 14/20 [00:15<00:06,  1.08s/it]\u001b[A\n",
      " 75%|███████▌  | 15/20 [00:16<00:05,  1.08s/it]\u001b[A\n",
      " 80%|████████  | 16/20 [00:17<00:04,  1.07s/it]\u001b[A\n",
      " 85%|████████▌ | 17/20 [00:18<00:03,  1.07s/it]\u001b[A\n",
      " 90%|█████████ | 18/20 [00:19<00:02,  1.07s/it]\u001b[A\n",
      " 95%|█████████▌| 19/20 [00:20<00:01,  1.07s/it]\u001b[A\n",
      "100%|██████████| 20/20 [00:21<00:00,  1.09s/it]\u001b[A\n"
     ]
    },
    {
     "name": "stdout",
     "output_type": "stream",
     "text": [
      "Maximization Step\n"
     ]
    },
    {
     "name": "stderr",
     "output_type": "stream",
     "text": [
      "\r",
      " 10%|█         | 1/10 [00:35<05:17, 35.27s/it]"
     ]
    },
    {
     "name": "stdout",
     "output_type": "stream",
     "text": [
      "(60027462.939819284+0.0051109131702578j)\n",
      "Expectation Step\n"
     ]
    },
    {
     "name": "stderr",
     "output_type": "stream",
     "text": [
      "\n",
      "  0%|          | 0/20 [00:00<?, ?it/s]\u001b[A\n",
      "  5%|▌         | 1/20 [00:01<00:20,  1.10s/it]\u001b[A\n",
      " 10%|█         | 2/20 [00:02<00:20,  1.11s/it]\u001b[A\n",
      " 15%|█▌        | 3/20 [00:03<00:18,  1.11s/it]\u001b[A\n",
      " 20%|██        | 4/20 [00:04<00:18,  1.15s/it]\u001b[A\n",
      " 25%|██▌       | 5/20 [00:05<00:17,  1.14s/it]\u001b[A\n",
      " 30%|███       | 6/20 [00:06<00:15,  1.13s/it]\u001b[A\n",
      " 35%|███▌      | 7/20 [00:07<00:14,  1.12s/it]\u001b[A\n",
      " 40%|████      | 8/20 [00:09<00:13,  1.14s/it]\u001b[A\n",
      " 45%|████▌     | 9/20 [00:10<00:12,  1.15s/it]\u001b[A\n",
      " 50%|█████     | 10/20 [00:11<00:11,  1.12s/it]\u001b[A\n",
      " 55%|█████▌    | 11/20 [00:12<00:10,  1.14s/it]\u001b[A\n",
      " 60%|██████    | 12/20 [00:13<00:08,  1.12s/it]\u001b[A\n",
      " 65%|██████▌   | 13/20 [00:14<00:07,  1.11s/it]\u001b[A\n",
      " 70%|███████   | 14/20 [00:15<00:06,  1.10s/it]\u001b[A\n",
      " 75%|███████▌  | 15/20 [00:16<00:05,  1.12s/it]\u001b[A\n",
      " 80%|████████  | 16/20 [00:17<00:04,  1.12s/it]\u001b[A\n",
      " 85%|████████▌ | 17/20 [00:19<00:03,  1.11s/it]\u001b[A\n",
      " 90%|█████████ | 18/20 [00:20<00:02,  1.12s/it]\u001b[A\n",
      " 95%|█████████▌| 19/20 [00:21<00:01,  1.11s/it]\u001b[A\n",
      "100%|██████████| 20/20 [00:22<00:00,  1.12s/it]\u001b[A\n"
     ]
    },
    {
     "name": "stdout",
     "output_type": "stream",
     "text": [
      "Maximization Step\n"
     ]
    },
    {
     "name": "stderr",
     "output_type": "stream",
     "text": [
      "\r",
      " 20%|██        | 2/10 [01:10<04:44, 35.50s/it]"
     ]
    },
    {
     "name": "stdout",
     "output_type": "stream",
     "text": [
      "(32649902.19093457-150351.98295989932j)\n",
      "Expectation Step\n"
     ]
    },
    {
     "name": "stderr",
     "output_type": "stream",
     "text": [
      "\n",
      "  0%|          | 0/20 [00:00<?, ?it/s]\u001b[A\n",
      "  5%|▌         | 1/20 [00:01<00:20,  1.07s/it]\u001b[A\n",
      " 10%|█         | 2/20 [00:02<00:19,  1.08s/it]\u001b[A\n",
      " 15%|█▌        | 3/20 [00:03<00:19,  1.12s/it]\u001b[A\n",
      " 20%|██        | 4/20 [00:04<00:17,  1.11s/it]\u001b[A\n",
      " 25%|██▌       | 5/20 [00:05<00:16,  1.10s/it]\u001b[A\n",
      " 30%|███       | 6/20 [00:06<00:15,  1.11s/it]\u001b[A\n",
      " 35%|███▌      | 7/20 [00:07<00:14,  1.13s/it]\u001b[A\n",
      " 40%|████      | 8/20 [00:08<00:13,  1.14s/it]\u001b[A\n",
      " 45%|████▌     | 9/20 [00:10<00:12,  1.15s/it]\u001b[A\n",
      " 50%|█████     | 10/20 [00:11<00:11,  1.13s/it]\u001b[A\n",
      " 55%|█████▌    | 11/20 [00:12<00:10,  1.12s/it]\u001b[A\n",
      " 60%|██████    | 12/20 [00:13<00:08,  1.12s/it]\u001b[A\n",
      " 65%|██████▌   | 13/20 [00:14<00:07,  1.11s/it]\u001b[A\n",
      " 70%|███████   | 14/20 [00:15<00:06,  1.11s/it]\u001b[A\n",
      " 75%|███████▌  | 15/20 [00:16<00:05,  1.10s/it]\u001b[A\n",
      " 80%|████████  | 16/20 [00:17<00:04,  1.10s/it]\u001b[A\n",
      " 85%|████████▌ | 17/20 [00:18<00:03,  1.10s/it]\u001b[A\n",
      " 90%|█████████ | 18/20 [00:20<00:02,  1.12s/it]\u001b[A\n",
      " 95%|█████████▌| 19/20 [00:21<00:01,  1.11s/it]\u001b[A\n",
      "100%|██████████| 20/20 [00:22<00:00,  1.11s/it]\u001b[A\n"
     ]
    },
    {
     "name": "stdout",
     "output_type": "stream",
     "text": [
      "Maximization Step\n"
     ]
    },
    {
     "name": "stderr",
     "output_type": "stream",
     "text": [
      "\r",
      " 30%|███       | 3/10 [01:46<04:09, 35.65s/it]"
     ]
    },
    {
     "name": "stdout",
     "output_type": "stream",
     "text": [
      "(32649902.193567347-150351.98438618938j)\n",
      "Expectation Step\n"
     ]
    },
    {
     "name": "stderr",
     "output_type": "stream",
     "text": [
      "\n",
      "  0%|          | 0/20 [00:00<?, ?it/s]\u001b[A\n",
      "  5%|▌         | 1/20 [00:01<00:21,  1.16s/it]\u001b[A\n",
      " 10%|█         | 2/20 [00:02<00:21,  1.17s/it]\u001b[A\n",
      " 15%|█▌        | 3/20 [00:03<00:19,  1.14s/it]\u001b[A\n",
      " 20%|██        | 4/20 [00:04<00:17,  1.12s/it]\u001b[A\n",
      " 25%|██▌       | 5/20 [00:05<00:16,  1.11s/it]\u001b[A\n",
      " 30%|███       | 6/20 [00:06<00:15,  1.11s/it]\u001b[A\n",
      " 35%|███▌      | 7/20 [00:07<00:14,  1.10s/it]\u001b[A\n",
      " 40%|████      | 8/20 [00:08<00:13,  1.09s/it]\u001b[A\n",
      " 45%|████▌     | 9/20 [00:09<00:12,  1.09s/it]\u001b[A\n",
      " 50%|█████     | 10/20 [00:11<00:10,  1.09s/it]\u001b[A\n",
      " 55%|█████▌    | 11/20 [00:12<00:10,  1.12s/it]\u001b[A\n",
      " 60%|██████    | 12/20 [00:13<00:08,  1.11s/it]\u001b[A\n",
      " 65%|██████▌   | 13/20 [00:14<00:07,  1.10s/it]\u001b[A\n",
      " 70%|███████   | 14/20 [00:15<00:06,  1.10s/it]\u001b[A\n",
      " 75%|███████▌  | 15/20 [00:16<00:05,  1.10s/it]\u001b[A\n",
      " 80%|████████  | 16/20 [00:17<00:04,  1.10s/it]\u001b[A\n",
      " 85%|████████▌ | 17/20 [00:18<00:03,  1.11s/it]\u001b[A\n",
      " 90%|█████████ | 18/20 [00:19<00:02,  1.11s/it]\u001b[A\n",
      " 95%|█████████▌| 19/20 [00:21<00:01,  1.10s/it]\u001b[A\n",
      "100%|██████████| 20/20 [00:22<00:00,  1.11s/it]\u001b[A\n"
     ]
    },
    {
     "name": "stdout",
     "output_type": "stream",
     "text": [
      "Maximization Step\n"
     ]
    },
    {
     "name": "stderr",
     "output_type": "stream",
     "text": [
      "\r",
      " 40%|████      | 4/10 [02:22<03:33, 35.64s/it]"
     ]
    },
    {
     "name": "stdout",
     "output_type": "stream",
     "text": [
      "(32649902.1873157-150351.98620767385j)\n",
      "Expectation Step\n"
     ]
    },
    {
     "name": "stderr",
     "output_type": "stream",
     "text": [
      "\n",
      "  0%|          | 0/20 [00:00<?, ?it/s]\u001b[A\n",
      "  5%|▌         | 1/20 [00:01<00:20,  1.08s/it]\u001b[A\n",
      " 10%|█         | 2/20 [00:02<00:19,  1.09s/it]\u001b[A\n",
      " 15%|█▌        | 3/20 [00:03<00:18,  1.09s/it]\u001b[A\n",
      " 20%|██        | 4/20 [00:04<00:17,  1.09s/it]\u001b[A\n",
      " 25%|██▌       | 5/20 [00:05<00:16,  1.12s/it]\u001b[A\n",
      " 30%|███       | 6/20 [00:06<00:16,  1.15s/it]\u001b[A\n",
      " 35%|███▌      | 7/20 [00:07<00:14,  1.13s/it]\u001b[A\n",
      " 40%|████      | 8/20 [00:08<00:13,  1.12s/it]\u001b[A\n",
      " 45%|████▌     | 9/20 [00:10<00:12,  1.13s/it]\u001b[A\n",
      " 50%|█████     | 10/20 [00:11<00:11,  1.12s/it]\u001b[A\n",
      " 55%|█████▌    | 11/20 [00:12<00:10,  1.11s/it]\u001b[A\n",
      " 60%|██████    | 12/20 [00:13<00:08,  1.11s/it]\u001b[A\n",
      " 65%|██████▌   | 13/20 [00:14<00:07,  1.10s/it]\u001b[A\n",
      " 70%|███████   | 14/20 [00:15<00:06,  1.10s/it]\u001b[A\n",
      " 75%|███████▌  | 15/20 [00:16<00:05,  1.13s/it]\u001b[A\n",
      " 80%|████████  | 16/20 [00:17<00:04,  1.11s/it]\u001b[A\n",
      " 85%|████████▌ | 17/20 [00:18<00:03,  1.11s/it]\u001b[A\n",
      " 90%|█████████ | 18/20 [00:20<00:02,  1.10s/it]\u001b[A\n",
      " 95%|█████████▌| 19/20 [00:21<00:01,  1.10s/it]\u001b[A\n",
      "100%|██████████| 20/20 [00:22<00:00,  1.11s/it]\u001b[A\n"
     ]
    },
    {
     "name": "stdout",
     "output_type": "stream",
     "text": [
      "Maximization Step\n"
     ]
    },
    {
     "name": "stderr",
     "output_type": "stream",
     "text": [
      "\r",
      " 50%|█████     | 5/10 [02:57<02:57, 35.58s/it]"
     ]
    },
    {
     "name": "stdout",
     "output_type": "stream",
     "text": [
      "(32649902.190793775-150351.98286486536j)\n",
      "Expectation Step\n"
     ]
    },
    {
     "name": "stderr",
     "output_type": "stream",
     "text": [
      "\n",
      "  0%|          | 0/20 [00:00<?, ?it/s]\u001b[A\n",
      "  5%|▌         | 1/20 [00:01<00:20,  1.08s/it]\u001b[A\n",
      " 10%|█         | 2/20 [00:02<00:19,  1.08s/it]\u001b[A\n",
      " 15%|█▌        | 3/20 [00:03<00:18,  1.08s/it]\u001b[A\n",
      " 20%|██        | 4/20 [00:04<00:17,  1.09s/it]\u001b[A\n",
      " 25%|██▌       | 5/20 [00:05<00:16,  1.11s/it]\u001b[A\n",
      " 30%|███       | 6/20 [00:06<00:15,  1.10s/it]\u001b[A\n",
      " 35%|███▌      | 7/20 [00:07<00:14,  1.10s/it]\u001b[A\n",
      " 40%|████      | 8/20 [00:08<00:13,  1.10s/it]\u001b[A\n",
      " 45%|████▌     | 9/20 [00:09<00:12,  1.09s/it]\u001b[A\n",
      " 50%|█████     | 10/20 [00:10<00:10,  1.09s/it]\u001b[A\n",
      " 55%|█████▌    | 11/20 [00:12<00:09,  1.09s/it]\u001b[A\n",
      " 60%|██████    | 12/20 [00:13<00:08,  1.08s/it]\u001b[A\n",
      " 65%|██████▌   | 13/20 [00:14<00:07,  1.08s/it]\u001b[A\n",
      " 70%|███████   | 14/20 [00:15<00:06,  1.08s/it]\u001b[A\n",
      " 75%|███████▌  | 15/20 [00:16<00:05,  1.08s/it]\u001b[A\n",
      " 80%|████████  | 16/20 [00:17<00:04,  1.09s/it]\u001b[A\n",
      " 85%|████████▌ | 17/20 [00:18<00:03,  1.11s/it]\u001b[A\n",
      " 90%|█████████ | 18/20 [00:19<00:02,  1.12s/it]\u001b[A\n",
      " 95%|█████████▌| 19/20 [00:20<00:01,  1.11s/it]\u001b[A\n",
      "100%|██████████| 20/20 [00:21<00:00,  1.10s/it]\u001b[A\n"
     ]
    },
    {
     "name": "stdout",
     "output_type": "stream",
     "text": [
      "Maximization Step\n"
     ]
    },
    {
     "name": "stderr",
     "output_type": "stream",
     "text": [
      "\r",
      " 60%|██████    | 6/10 [03:32<02:21, 35.40s/it]"
     ]
    },
    {
     "name": "stdout",
     "output_type": "stream",
     "text": [
      "(32649902.19093457-150351.98295989932j)\n",
      "Expectation Step\n"
     ]
    },
    {
     "name": "stderr",
     "output_type": "stream",
     "text": [
      "\n",
      "  0%|          | 0/20 [00:00<?, ?it/s]\u001b[A\n",
      "  5%|▌         | 1/20 [00:01<00:20,  1.07s/it]\u001b[A\n",
      " 10%|█         | 2/20 [00:02<00:19,  1.10s/it]\u001b[A\n",
      " 15%|█▌        | 3/20 [00:03<00:18,  1.09s/it]\u001b[A\n",
      " 20%|██        | 4/20 [00:04<00:17,  1.08s/it]\u001b[A\n",
      " 25%|██▌       | 5/20 [00:05<00:16,  1.08s/it]\u001b[A\n",
      " 30%|███       | 6/20 [00:06<00:15,  1.08s/it]\u001b[A\n",
      " 35%|███▌      | 7/20 [00:07<00:14,  1.10s/it]\u001b[A\n",
      " 40%|████      | 8/20 [00:08<00:13,  1.10s/it]\u001b[A\n",
      " 45%|████▌     | 9/20 [00:09<00:12,  1.10s/it]\u001b[A\n",
      " 50%|█████     | 10/20 [00:10<00:10,  1.09s/it]\u001b[A\n",
      " 55%|█████▌    | 11/20 [00:11<00:09,  1.09s/it]\u001b[A\n",
      " 60%|██████    | 12/20 [00:13<00:08,  1.09s/it]\u001b[A\n",
      " 65%|██████▌   | 13/20 [00:14<00:07,  1.08s/it]\u001b[A\n",
      " 70%|███████   | 14/20 [00:15<00:06,  1.08s/it]\u001b[A\n",
      " 75%|███████▌  | 15/20 [00:16<00:05,  1.11s/it]\u001b[A\n",
      " 80%|████████  | 16/20 [00:17<00:04,  1.10s/it]\u001b[A\n",
      " 85%|████████▌ | 17/20 [00:18<00:03,  1.09s/it]\u001b[A\n",
      " 90%|█████████ | 18/20 [00:19<00:02,  1.09s/it]\u001b[A\n",
      " 95%|█████████▌| 19/20 [00:20<00:01,  1.10s/it]\u001b[A\n",
      "100%|██████████| 20/20 [00:21<00:00,  1.09s/it]\u001b[A\n"
     ]
    },
    {
     "name": "stdout",
     "output_type": "stream",
     "text": [
      "Maximization Step\n"
     ]
    },
    {
     "name": "stderr",
     "output_type": "stream",
     "text": [
      "\r",
      " 70%|███████   | 7/10 [04:07<01:45, 35.27s/it]"
     ]
    },
    {
     "name": "stdout",
     "output_type": "stream",
     "text": [
      "(32649902.193567347-150351.98438618938j)\n",
      "Expectation Step\n"
     ]
    },
    {
     "name": "stderr",
     "output_type": "stream",
     "text": [
      "\n",
      "  0%|          | 0/20 [00:00<?, ?it/s]\u001b[A\n",
      "  5%|▌         | 1/20 [00:01<00:20,  1.08s/it]\u001b[A\n",
      " 10%|█         | 2/20 [00:02<00:19,  1.08s/it]\u001b[A\n",
      " 15%|█▌        | 3/20 [00:03<00:18,  1.08s/it]\u001b[A\n",
      " 20%|██        | 4/20 [00:04<00:17,  1.08s/it]\u001b[A\n",
      " 25%|██▌       | 5/20 [00:05<00:16,  1.08s/it]\u001b[A\n",
      " 30%|███       | 6/20 [00:06<00:15,  1.08s/it]\u001b[A\n",
      " 35%|███▌      | 7/20 [00:07<00:14,  1.08s/it]\u001b[A\n",
      " 40%|████      | 8/20 [00:08<00:13,  1.09s/it]\u001b[A\n",
      " 45%|████▌     | 9/20 [00:09<00:12,  1.12s/it]\u001b[A\n",
      " 50%|█████     | 10/20 [00:10<00:11,  1.12s/it]\u001b[A\n",
      " 55%|█████▌    | 11/20 [00:12<00:09,  1.11s/it]\u001b[A\n",
      " 60%|██████    | 12/20 [00:13<00:08,  1.11s/it]\u001b[A\n",
      " 65%|██████▌   | 13/20 [00:14<00:07,  1.11s/it]\u001b[A\n",
      " 70%|███████   | 14/20 [00:15<00:06,  1.11s/it]\u001b[A\n",
      " 75%|███████▌  | 15/20 [00:16<00:05,  1.11s/it]\u001b[A\n",
      " 80%|████████  | 16/20 [00:17<00:04,  1.11s/it]\u001b[A\n",
      " 85%|████████▌ | 17/20 [00:18<00:03,  1.11s/it]\u001b[A\n",
      " 90%|█████████ | 18/20 [00:19<00:02,  1.13s/it]\u001b[A\n",
      " 95%|█████████▌| 19/20 [00:21<00:01,  1.15s/it]\u001b[A\n",
      "100%|██████████| 20/20 [00:22<00:00,  1.11s/it]\u001b[A\n"
     ]
    },
    {
     "name": "stdout",
     "output_type": "stream",
     "text": [
      "Maximization Step\n"
     ]
    },
    {
     "name": "stderr",
     "output_type": "stream",
     "text": [
      "\r",
      " 80%|████████  | 8/10 [04:43<01:10, 35.50s/it]"
     ]
    },
    {
     "name": "stdout",
     "output_type": "stream",
     "text": [
      "(32649902.1873157-150351.98620767385j)\n",
      "Expectation Step\n"
     ]
    },
    {
     "name": "stderr",
     "output_type": "stream",
     "text": [
      "\n",
      "  0%|          | 0/20 [00:00<?, ?it/s]\u001b[A\n",
      "  5%|▌         | 1/20 [00:01<00:21,  1.13s/it]\u001b[A\n",
      " 10%|█         | 2/20 [00:02<00:20,  1.12s/it]\u001b[A\n",
      " 15%|█▌        | 3/20 [00:03<00:18,  1.12s/it]\u001b[A\n",
      " 20%|██        | 4/20 [00:04<00:18,  1.13s/it]\u001b[A\n",
      " 25%|██▌       | 5/20 [00:05<00:17,  1.16s/it]\u001b[A\n",
      " 30%|███       | 6/20 [00:06<00:16,  1.15s/it]\u001b[A\n",
      " 35%|███▌      | 7/20 [00:08<00:14,  1.15s/it]\u001b[A\n",
      " 40%|████      | 8/20 [00:09<00:14,  1.17s/it]\u001b[A\n",
      " 45%|████▌     | 9/20 [00:10<00:12,  1.18s/it]\u001b[A\n",
      " 50%|█████     | 10/20 [00:11<00:11,  1.16s/it]\u001b[A\n",
      " 55%|█████▌    | 11/20 [00:12<00:10,  1.15s/it]\u001b[A\n",
      " 60%|██████    | 12/20 [00:13<00:09,  1.14s/it]\u001b[A\n",
      " 65%|██████▌   | 13/20 [00:14<00:07,  1.13s/it]\u001b[A\n",
      " 70%|███████   | 14/20 [00:16<00:06,  1.14s/it]\u001b[A\n",
      " 75%|███████▌  | 15/20 [00:17<00:05,  1.13s/it]\u001b[A\n",
      " 80%|████████  | 16/20 [00:18<00:04,  1.13s/it]\u001b[A\n",
      " 85%|████████▌ | 17/20 [00:19<00:03,  1.12s/it]\u001b[A\n",
      " 90%|█████████ | 18/20 [00:20<00:02,  1.12s/it]\u001b[A\n",
      " 95%|█████████▌| 19/20 [00:21<00:01,  1.12s/it]\u001b[A\n",
      "100%|██████████| 20/20 [00:22<00:00,  1.14s/it]\u001b[A\n"
     ]
    },
    {
     "name": "stdout",
     "output_type": "stream",
     "text": [
      "Maximization Step\n"
     ]
    },
    {
     "name": "stderr",
     "output_type": "stream",
     "text": [
      "\r",
      " 90%|█████████ | 9/10 [05:20<00:35, 35.69s/it]"
     ]
    },
    {
     "name": "stdout",
     "output_type": "stream",
     "text": [
      "(32649902.190793775-150351.98286486536j)\n",
      "Expectation Step\n"
     ]
    },
    {
     "name": "stderr",
     "output_type": "stream",
     "text": [
      "\n",
      "  0%|          | 0/20 [00:00<?, ?it/s]\u001b[A\n",
      "  5%|▌         | 1/20 [00:01<00:21,  1.12s/it]\u001b[A\n",
      " 10%|█         | 2/20 [00:02<00:19,  1.10s/it]\u001b[A\n",
      " 15%|█▌        | 3/20 [00:03<00:18,  1.09s/it]\u001b[A\n",
      " 20%|██        | 4/20 [00:04<00:17,  1.09s/it]\u001b[A\n",
      " 25%|██▌       | 5/20 [00:05<00:16,  1.09s/it]\u001b[A\n",
      " 30%|███       | 6/20 [00:06<00:15,  1.13s/it]\u001b[A\n",
      " 35%|███▌      | 7/20 [00:07<00:14,  1.12s/it]\u001b[A\n",
      " 40%|████      | 8/20 [00:08<00:13,  1.11s/it]\u001b[A\n",
      " 45%|████▌     | 9/20 [00:09<00:12,  1.12s/it]\u001b[A\n",
      " 50%|█████     | 10/20 [00:11<00:11,  1.11s/it]\u001b[A\n",
      " 55%|█████▌    | 11/20 [00:12<00:10,  1.13s/it]\u001b[A\n",
      " 60%|██████    | 12/20 [00:13<00:09,  1.15s/it]\u001b[A\n",
      " 65%|██████▌   | 13/20 [00:14<00:07,  1.14s/it]\u001b[A\n",
      " 70%|███████   | 14/20 [00:15<00:06,  1.13s/it]\u001b[A\n",
      " 75%|███████▌  | 15/20 [00:16<00:05,  1.15s/it]\u001b[A\n",
      " 80%|████████  | 16/20 [00:17<00:04,  1.14s/it]\u001b[A\n",
      " 85%|████████▌ | 17/20 [00:19<00:03,  1.15s/it]\u001b[A\n",
      " 90%|█████████ | 18/20 [00:20<00:02,  1.13s/it]\u001b[A\n",
      " 95%|█████████▌| 19/20 [00:21<00:01,  1.13s/it]\u001b[A\n",
      "100%|██████████| 20/20 [00:22<00:00,  1.13s/it]\u001b[A\n"
     ]
    },
    {
     "name": "stdout",
     "output_type": "stream",
     "text": [
      "Maximization Step\n"
     ]
    },
    {
     "name": "stderr",
     "output_type": "stream",
     "text": [
      "100%|██████████| 10/10 [05:56<00:00, 35.63s/it]"
     ]
    },
    {
     "name": "stdout",
     "output_type": "stream",
     "text": [
      "(32649902.19093457-150351.98295989932j)\n"
     ]
    },
    {
     "name": "stderr",
     "output_type": "stream",
     "text": [
      "\n"
     ]
    },
    {
     "data": {
      "text/plain": [
       "<__main__.GMM at 0x7f288434da60>"
      ]
     },
     "execution_count": 206,
     "metadata": {},
     "output_type": "execute_result"
    }
   ],
   "source": [
    "gmm.fit(X_Y)"
   ]
  },
  {
   "cell_type": "code",
   "execution_count": 208,
   "id": "7bc92f30",
   "metadata": {},
   "outputs": [
    {
     "name": "stderr",
     "output_type": "stream",
     "text": [
      "/home/cslioussarenko/anaconda3/lib/python3.8/site-packages/numpy/core/_asarray.py:102: ComplexWarning: Casting complex values to real discards the imaginary part\n",
      "  return array(a, dtype, copy=False, order=order)\n"
     ]
    },
    {
     "data": {
      "text/plain": [
       "[<matplotlib.lines.Line2D at 0x7f28792387c0>,\n",
       " <matplotlib.lines.Line2D at 0x7f28792388b0>,\n",
       " <matplotlib.lines.Line2D at 0x7f2879238970>,\n",
       " <matplotlib.lines.Line2D at 0x7f2879238a30>,\n",
       " <matplotlib.lines.Line2D at 0x7f2879238760>,\n",
       " <matplotlib.lines.Line2D at 0x7f2879238b80>,\n",
       " <matplotlib.lines.Line2D at 0x7f2879238c40>,\n",
       " <matplotlib.lines.Line2D at 0x7f2879238d00>,\n",
       " <matplotlib.lines.Line2D at 0x7f2879238dc0>,\n",
       " <matplotlib.lines.Line2D at 0x7f2879238e80>,\n",
       " <matplotlib.lines.Line2D at 0x7f287921d7f0>,\n",
       " <matplotlib.lines.Line2D at 0x7f2879238fd0>,\n",
       " <matplotlib.lines.Line2D at 0x7f287924c0d0>,\n",
       " <matplotlib.lines.Line2D at 0x7f287924c190>,\n",
       " <matplotlib.lines.Line2D at 0x7f287924c250>,\n",
       " <matplotlib.lines.Line2D at 0x7f287924c310>,\n",
       " <matplotlib.lines.Line2D at 0x7f287924c3d0>,\n",
       " <matplotlib.lines.Line2D at 0x7f287924c4c0>,\n",
       " <matplotlib.lines.Line2D at 0x7f287924c490>,\n",
       " <matplotlib.lines.Line2D at 0x7f287924c640>]"
      ]
     },
     "execution_count": 208,
     "metadata": {},
     "output_type": "execute_result"
    },
    {
     "data": {
      "image/png": "[encoded data removed]",
      "text/plain": [
       "<Figure size 432x288 with 1 Axes>"
      ]
     },
     "metadata": {
      "needs_background": "light"
     },
     "output_type": "display_data"
    }
   ],
   "source": [
    "plt.plot(gmm.resp)"
   ]
  },
  {
   "cell_type": "code",
   "execution_count": 171,
   "id": "82f29647",
   "metadata": {},
   "outputs": [
    {
     "data": {
      "text/plain": [
       "(323190, 179)"
      ]
     },
     "execution_count": 171,
     "metadata": {},
     "output_type": "execute_result"
    }
   ],
   "source": [
    "X_Y.shape"
   ]
  },
  {
   "cell_type": "code",
   "execution_count": 79,
   "id": "89f3f60f",
   "metadata": {},
   "outputs": [
    {
     "data": {
      "text/plain": [
       "(100, 179)"
      ]
     },
     "execution_count": 79,
     "metadata": {},
     "output_type": "execute_result"
    }
   ],
   "source": [
    "gmm.means.shape"
   ]
  },
  {
   "cell_type": "code",
   "execution_count": 80,
   "id": "646271a9",
   "metadata": {},
   "outputs": [
    {
     "data": {
      "text/plain": [
       "(100, 179, 179)"
      ]
     },
     "execution_count": 80,
     "metadata": {},
     "output_type": "execute_result"
    }
   ],
   "source": [
    "gmm.covs.shape"
   ]
  },
  {
   "cell_type": "code",
   "execution_count": 81,
   "id": "709c1df2",
   "metadata": {},
   "outputs": [
    {
     "data": {
      "text/plain": [
       "array([[ 6.80000000e+02+0.j        ,  3.50000000e-01+0.j        ,\n",
       "        -6.00000000e-02+0.j        , ...,  6.40021174e-03-0.01241383j,\n",
       "         6.40061297e-03-0.01245161j,  6.40050396e-03-0.01248644j],\n",
       "       [ 6.20000000e+02+0.j        ,  7.00000000e-01+0.j        ,\n",
       "         3.00000000e-02+0.j        , ...,  1.73445217e-02+0.02940641j,\n",
       "         1.74981096e-02+0.02960429j,  1.76388961e-02+0.02978462j],\n",
       "       [ 1.44000000e+03+0.j        ,  9.50000000e-01+0.j        ,\n",
       "        -6.00000000e-02+0.j        , ...,  2.41303619e-02-0.01835263j,\n",
       "         2.41687327e-02-0.0184066j ,  2.42002797e-02-0.01845428j],\n",
       "       ...,\n",
       "       [ 1.25000000e+03+0.j        ,  6.00000000e-01+0.j        ,\n",
       "        -0.00000000e+00+0.j        , ...,  2.29217566e-02+0.00493044j,\n",
       "         2.32192392e-02+0.00493805j,  2.35024611e-02+0.0049445j ],\n",
       "       [ 7.20000000e+02+0.j        ,  8.00000000e-01+0.j        ,\n",
       "         4.50000000e-02+0.j        , ..., -1.86857386e-03+0.03164324j,\n",
       "        -1.81949397e-03+0.03189482j, -1.77316494e-03+0.03212527j],\n",
       "       [ 1.37000000e+03+0.j        ,  7.00000000e-01+0.j        ,\n",
       "         4.50000000e-02+0.j        , ...,  7.28910225e-03+0.0272147j ,\n",
       "         7.40582765e-03+0.02765051j,  7.51701911e-03+0.02806565j]])"
      ]
     },
     "execution_count": 81,
     "metadata": {},
     "output_type": "execute_result"
    }
   ],
   "source": [
    "gmm.means"
   ]
  },
  {
   "cell_type": "code",
   "execution_count": 82,
   "id": "5afba2f9",
   "metadata": {},
   "outputs": [
    {
     "data": {
      "text/plain": [
       "array([[[ 1.24679864e+05+0.00000000e+00j,\n",
       "         -3.97129520e-14+0.00000000e+00j,\n",
       "          1.54776953e-17+0.00000000e+00j, ...,\n",
       "         -4.03932282e-01-3.58801118e-17j,\n",
       "         -4.01699081e-01-7.73884764e-18j,\n",
       "         -3.99225461e-01+1.51259295e-17j],\n",
       "        [-3.97129520e-14+0.00000000e+00j,\n",
       "          4.66668111e-02+0.00000000e+00j,\n",
       "         -7.38570775e-20+0.00000000e+00j, ...,\n",
       "          4.38899041e-04-3.00457611e-04j,\n",
       "          4.45268080e-04-3.01198840e-04j,\n",
       "          4.51094083e-04-3.01813685e-04j],\n",
       "        [ 1.54776953e-17+0.00000000e+00j,\n",
       "         -7.38570775e-20+0.00000000e+00j,\n",
       "          1.50000464e-03+0.00000000e+00j, ...,\n",
       "         -3.02636703e-04-5.82581806e-04j,\n",
       "         -3.03105275e-04-5.87942678e-04j,\n",
       "         -3.03499933e-04-5.92965736e-04j],\n",
       "        ...,\n",
       "        [-4.03932282e-01+3.58801118e-17j,\n",
       "          4.38899041e-04+3.00457611e-04j,\n",
       "         -3.02636703e-04+5.82581806e-04j, ...,\n",
       "          5.08688975e-04+0.00000000e+00j,\n",
       "          5.12627024e-04+7.39647930e-07j,\n",
       "          5.16286662e-04+1.44462537e-06j],\n",
       "        [-4.01699081e-01+7.73884764e-18j,\n",
       "          4.45268080e-04+3.01198840e-04j,\n",
       "         -3.03105275e-04+5.87942678e-04j, ...,\n",
       "          5.12627024e-04-7.39647930e-07j,\n",
       "          5.16607677e-04+0.00000000e+00j,\n",
       "          5.20307255e-04+7.05115738e-07j],\n",
       "        [-3.99225461e-01-1.51259295e-17j,\n",
       "          4.51094083e-04+3.01813685e-04j,\n",
       "         -3.03499933e-04+5.92965736e-04j, ...,\n",
       "          5.16286662e-04-1.44462537e-06j,\n",
       "          5.20307255e-04-7.05115738e-07j,\n",
       "          5.24044288e-04+0.00000000e+00j]],\n",
       "\n",
       "       [[ 1.24679864e+05+0.00000000e+00j,\n",
       "         -3.97129520e-14+0.00000000e+00j,\n",
       "          1.54776953e-17+0.00000000e+00j, ...,\n",
       "         -4.03932282e-01-3.58801118e-17j,\n",
       "         -4.01699081e-01-7.73884764e-18j,\n",
       "         -3.99225461e-01+1.51259295e-17j],\n",
       "        [-3.97129520e-14+0.00000000e+00j,\n",
       "          4.66668111e-02+0.00000000e+00j,\n",
       "         -7.38570775e-20+0.00000000e+00j, ...,\n",
       "          4.38899041e-04-3.00457611e-04j,\n",
       "          4.45268080e-04-3.01198840e-04j,\n",
       "          4.51094083e-04-3.01813685e-04j],\n",
       "        [ 1.54776953e-17+0.00000000e+00j,\n",
       "         -7.38570775e-20+0.00000000e+00j,\n",
       "          1.50000464e-03+0.00000000e+00j, ...,\n",
       "         -3.02636703e-04-5.82581806e-04j,\n",
       "         -3.03105275e-04-5.87942678e-04j,\n",
       "         -3.03499933e-04-5.92965736e-04j],\n",
       "        ...,\n",
       "        [-4.03932282e-01+3.58801118e-17j,\n",
       "          4.38899041e-04+3.00457611e-04j,\n",
       "         -3.02636703e-04+5.82581806e-04j, ...,\n",
       "          5.08688975e-04+0.00000000e+00j,\n",
       "          5.12627024e-04+7.39647930e-07j,\n",
       "          5.16286662e-04+1.44462537e-06j],\n",
       "        [-4.01699081e-01+7.73884764e-18j,\n",
       "          4.45268080e-04+3.01198840e-04j,\n",
       "         -3.03105275e-04+5.87942678e-04j, ...,\n",
       "          5.12627024e-04-7.39647930e-07j,\n",
       "          5.16607677e-04+0.00000000e+00j,\n",
       "          5.20307255e-04+7.05115738e-07j],\n",
       "        [-3.99225461e-01-1.51259295e-17j,\n",
       "          4.51094083e-04+3.01813685e-04j,\n",
       "         -3.03499933e-04+5.92965736e-04j, ...,\n",
       "          5.16286662e-04-1.44462537e-06j,\n",
       "          5.20307255e-04-7.05115738e-07j,\n",
       "          5.24044288e-04+0.00000000e+00j]],\n",
       "\n",
       "       [[ 1.24679864e+05+0.00000000e+00j,\n",
       "         -3.97129520e-14+0.00000000e+00j,\n",
       "          1.54776953e-17+0.00000000e+00j, ...,\n",
       "         -4.03932282e-01-3.58801118e-17j,\n",
       "         -4.01699081e-01-7.73884764e-18j,\n",
       "         -3.99225461e-01+1.51259295e-17j],\n",
       "        [-3.97129520e-14+0.00000000e+00j,\n",
       "          4.66668111e-02+0.00000000e+00j,\n",
       "         -7.38570775e-20+0.00000000e+00j, ...,\n",
       "          4.38899041e-04-3.00457611e-04j,\n",
       "          4.45268080e-04-3.01198840e-04j,\n",
       "          4.51094083e-04-3.01813685e-04j],\n",
       "        [ 1.54776953e-17+0.00000000e+00j,\n",
       "         -7.38570775e-20+0.00000000e+00j,\n",
       "          1.50000464e-03+0.00000000e+00j, ...,\n",
       "         -3.02636703e-04-5.82581806e-04j,\n",
       "         -3.03105275e-04-5.87942678e-04j,\n",
       "         -3.03499933e-04-5.92965736e-04j],\n",
       "        ...,\n",
       "        [-4.03932282e-01+3.58801118e-17j,\n",
       "          4.38899041e-04+3.00457611e-04j,\n",
       "         -3.02636703e-04+5.82581806e-04j, ...,\n",
       "          5.08688975e-04+0.00000000e+00j,\n",
       "          5.12627024e-04+7.39647930e-07j,\n",
       "          5.16286662e-04+1.44462537e-06j],\n",
       "        [-4.01699081e-01+7.73884764e-18j,\n",
       "          4.45268080e-04+3.01198840e-04j,\n",
       "         -3.03105275e-04+5.87942678e-04j, ...,\n",
       "          5.12627024e-04-7.39647930e-07j,\n",
       "          5.16607677e-04+0.00000000e+00j,\n",
       "          5.20307255e-04+7.05115738e-07j],\n",
       "        [-3.99225461e-01-1.51259295e-17j,\n",
       "          4.51094083e-04+3.01813685e-04j,\n",
       "         -3.03499933e-04+5.92965736e-04j, ...,\n",
       "          5.16286662e-04-1.44462537e-06j,\n",
       "          5.20307255e-04-7.05115738e-07j,\n",
       "          5.24044288e-04+0.00000000e+00j]],\n",
       "\n",
       "       ...,\n",
       "\n",
       "       [[ 1.24679864e+05+0.00000000e+00j,\n",
       "         -3.97129520e-14+0.00000000e+00j,\n",
       "          1.54776953e-17+0.00000000e+00j, ...,\n",
       "         -4.03932282e-01-3.58801118e-17j,\n",
       "         -4.01699081e-01-7.73884764e-18j,\n",
       "         -3.99225461e-01+1.51259295e-17j],\n",
       "        [-3.97129520e-14+0.00000000e+00j,\n",
       "          4.66668111e-02+0.00000000e+00j,\n",
       "         -7.38570775e-20+0.00000000e+00j, ...,\n",
       "          4.38899041e-04-3.00457611e-04j,\n",
       "          4.45268080e-04-3.01198840e-04j,\n",
       "          4.51094083e-04-3.01813685e-04j],\n",
       "        [ 1.54776953e-17+0.00000000e+00j,\n",
       "         -7.38570775e-20+0.00000000e+00j,\n",
       "          1.50000464e-03+0.00000000e+00j, ...,\n",
       "         -3.02636703e-04-5.82581806e-04j,\n",
       "         -3.03105275e-04-5.87942678e-04j,\n",
       "         -3.03499933e-04-5.92965736e-04j],\n",
       "        ...,\n",
       "        [-4.03932282e-01+3.58801118e-17j,\n",
       "          4.38899041e-04+3.00457611e-04j,\n",
       "         -3.02636703e-04+5.82581806e-04j, ...,\n",
       "          5.08688975e-04+0.00000000e+00j,\n",
       "          5.12627024e-04+7.39647930e-07j,\n",
       "          5.16286662e-04+1.44462537e-06j],\n",
       "        [-4.01699081e-01+7.73884764e-18j,\n",
       "          4.45268080e-04+3.01198840e-04j,\n",
       "         -3.03105275e-04+5.87942678e-04j, ...,\n",
       "          5.12627024e-04-7.39647930e-07j,\n",
       "          5.16607677e-04+0.00000000e+00j,\n",
       "          5.20307255e-04+7.05115738e-07j],\n",
       "        [-3.99225461e-01-1.51259295e-17j,\n",
       "          4.51094083e-04+3.01813685e-04j,\n",
       "         -3.03499933e-04+5.92965736e-04j, ...,\n",
       "          5.16286662e-04-1.44462537e-06j,\n",
       "          5.20307255e-04-7.05115738e-07j,\n",
       "          5.24044288e-04+0.00000000e+00j]],\n",
       "\n",
       "       [[ 1.24679864e+05+0.00000000e+00j,\n",
       "         -3.97129520e-14+0.00000000e+00j,\n",
       "          1.54776953e-17+0.00000000e+00j, ...,\n",
       "         -4.03932282e-01-3.58801118e-17j,\n",
       "         -4.01699081e-01-7.73884764e-18j,\n",
       "         -3.99225461e-01+1.51259295e-17j],\n",
       "        [-3.97129520e-14+0.00000000e+00j,\n",
       "          4.66668111e-02+0.00000000e+00j,\n",
       "         -7.38570775e-20+0.00000000e+00j, ...,\n",
       "          4.38899041e-04-3.00457611e-04j,\n",
       "          4.45268080e-04-3.01198840e-04j,\n",
       "          4.51094083e-04-3.01813685e-04j],\n",
       "        [ 1.54776953e-17+0.00000000e+00j,\n",
       "         -7.38570775e-20+0.00000000e+00j,\n",
       "          1.50000464e-03+0.00000000e+00j, ...,\n",
       "         -3.02636703e-04-5.82581806e-04j,\n",
       "         -3.03105275e-04-5.87942678e-04j,\n",
       "         -3.03499933e-04-5.92965736e-04j],\n",
       "        ...,\n",
       "        [-4.03932282e-01+3.58801118e-17j,\n",
       "          4.38899041e-04+3.00457611e-04j,\n",
       "         -3.02636703e-04+5.82581806e-04j, ...,\n",
       "          5.08688975e-04+0.00000000e+00j,\n",
       "          5.12627024e-04+7.39647930e-07j,\n",
       "          5.16286662e-04+1.44462537e-06j],\n",
       "        [-4.01699081e-01+7.73884764e-18j,\n",
       "          4.45268080e-04+3.01198840e-04j,\n",
       "         -3.03105275e-04+5.87942678e-04j, ...,\n",
       "          5.12627024e-04-7.39647930e-07j,\n",
       "          5.16607677e-04+0.00000000e+00j,\n",
       "          5.20307255e-04+7.05115738e-07j],\n",
       "        [-3.99225461e-01-1.51259295e-17j,\n",
       "          4.51094083e-04+3.01813685e-04j,\n",
       "         -3.03499933e-04+5.92965736e-04j, ...,\n",
       "          5.16286662e-04-1.44462537e-06j,\n",
       "          5.20307255e-04-7.05115738e-07j,\n",
       "          5.24044288e-04+0.00000000e+00j]],\n",
       "\n",
       "       [[ 1.24679864e+05+0.00000000e+00j,\n",
       "         -3.97129520e-14+0.00000000e+00j,\n",
       "          1.54776953e-17+0.00000000e+00j, ...,\n",
       "         -4.03932282e-01-3.58801118e-17j,\n",
       "         -4.01699081e-01-7.73884764e-18j,\n",
       "         -3.99225461e-01+1.51259295e-17j],\n",
       "        [-3.97129520e-14+0.00000000e+00j,\n",
       "          4.66668111e-02+0.00000000e+00j,\n",
       "         -7.38570775e-20+0.00000000e+00j, ...,\n",
       "          4.38899041e-04-3.00457611e-04j,\n",
       "          4.45268080e-04-3.01198840e-04j,\n",
       "          4.51094083e-04-3.01813685e-04j],\n",
       "        [ 1.54776953e-17+0.00000000e+00j,\n",
       "         -7.38570775e-20+0.00000000e+00j,\n",
       "          1.50000464e-03+0.00000000e+00j, ...,\n",
       "         -3.02636703e-04-5.82581806e-04j,\n",
       "         -3.03105275e-04-5.87942678e-04j,\n",
       "         -3.03499933e-04-5.92965736e-04j],\n",
       "        ...,\n",
       "        [-4.03932282e-01+3.58801118e-17j,\n",
       "          4.38899041e-04+3.00457611e-04j,\n",
       "         -3.02636703e-04+5.82581806e-04j, ...,\n",
       "          5.08688975e-04+0.00000000e+00j,\n",
       "          5.12627024e-04+7.39647930e-07j,\n",
       "          5.16286662e-04+1.44462537e-06j],\n",
       "        [-4.01699081e-01+7.73884764e-18j,\n",
       "          4.45268080e-04+3.01198840e-04j,\n",
       "         -3.03105275e-04+5.87942678e-04j, ...,\n",
       "          5.12627024e-04-7.39647930e-07j,\n",
       "          5.16607677e-04+0.00000000e+00j,\n",
       "          5.20307255e-04+7.05115738e-07j],\n",
       "        [-3.99225461e-01-1.51259295e-17j,\n",
       "          4.51094083e-04+3.01813685e-04j,\n",
       "         -3.03499933e-04+5.92965736e-04j, ...,\n",
       "          5.16286662e-04-1.44462537e-06j,\n",
       "          5.20307255e-04-7.05115738e-07j,\n",
       "          5.24044288e-04+0.00000000e+00j]]])"
      ]
     },
     "execution_count": 82,
     "metadata": {},
     "output_type": "execute_result"
    }
   ],
   "source": [
    "gmm.covs"
   ]
  },
  {
   "cell_type": "code",
   "execution_count": 83,
   "id": "a0ca1f99",
   "metadata": {},
   "outputs": [
    {
     "data": {
      "text/plain": [
       "0.0"
      ]
     },
     "execution_count": 83,
     "metadata": {},
     "output_type": "execute_result"
    }
   ],
   "source": [
    "np.min(np.abs(X_Y))"
   ]
  },
  {
   "cell_type": "code",
   "execution_count": 84,
   "id": "2288e14e",
   "metadata": {},
   "outputs": [
    {
     "data": {
      "text/plain": [
       "array([0.01, 0.01, 0.01, 0.01, 0.01, 0.01, 0.01, 0.01, 0.01, 0.01, 0.01,\n",
       "       0.01, 0.01, 0.01, 0.01, 0.01, 0.01, 0.01, 0.01, 0.01, 0.01, 0.01,\n",
       "       0.01, 0.01, 0.01, 0.01, 0.01, 0.01, 0.01, 0.01, 0.01, 0.01, 0.01,\n",
       "       0.01, 0.01, 0.01, 0.01, 0.01, 0.01, 0.01, 0.01, 0.01, 0.01, 0.01,\n",
       "       0.01, 0.01, 0.01, 0.01, 0.01, 0.01, 0.01, 0.01, 0.01, 0.01, 0.01,\n",
       "       0.01, 0.01, 0.01, 0.01, 0.01, 0.01, 0.01, 0.01, 0.01, 0.01, 0.01,\n",
       "       0.01, 0.01, 0.01, 0.01, 0.01, 0.01, 0.01, 0.01, 0.01, 0.01, 0.01,\n",
       "       0.01, 0.01, 0.01, 0.01, 0.01, 0.01, 0.01, 0.01, 0.01, 0.01, 0.01,\n",
       "       0.01, 0.01, 0.01, 0.01, 0.01, 0.01, 0.01, 0.01, 0.01, 0.01, 0.01,\n",
       "       0.01])"
      ]
     },
     "execution_count": 84,
     "metadata": {},
     "output_type": "execute_result"
    }
   ],
   "source": [
    "gmm.weights"
   ]
  },
  {
   "cell_type": "code",
   "execution_count": 85,
   "id": "c61446d1",
   "metadata": {},
   "outputs": [
    {
     "ename": "LinAlgError",
     "evalue": "singular matrix",
     "output_type": "error",
     "traceback": [
      "\u001b[0;31m---------------------------------------------------------------------------\u001b[0m",
      "\u001b[0;31mLinAlgError\u001b[0m                               Traceback (most recent call last)",
      "\u001b[0;32m<ipython-input-85-4b579d2a9313>\u001b[0m in \u001b[0;36m<module>\u001b[0;34m\u001b[0m\n\u001b[0;32m----> 1\u001b[0;31m \u001b[0mmultivariate_normal\u001b[0m\u001b[0;34m(\u001b[0m\u001b[0mgmm\u001b[0m\u001b[0;34m.\u001b[0m\u001b[0mmeans\u001b[0m\u001b[0;34m[\u001b[0m\u001b[0;36m0\u001b[0m\u001b[0;34m]\u001b[0m\u001b[0;34m,\u001b[0m\u001b[0mgmm\u001b[0m\u001b[0;34m.\u001b[0m\u001b[0mcovs\u001b[0m\u001b[0;34m[\u001b[0m\u001b[0;36m0\u001b[0m\u001b[0;34m]\u001b[0m\u001b[0;34m)\u001b[0m\u001b[0;34m\u001b[0m\u001b[0;34m\u001b[0m\u001b[0m\n\u001b[0m",
      "\u001b[0;32m~/anaconda3/lib/python3.8/site-packages/scipy/stats/_multivariate.py\u001b[0m in \u001b[0;36m__call__\u001b[0;34m(self, mean, cov, allow_singular, seed)\u001b[0m\n\u001b[1;32m    365\u001b[0m \u001b[0;34m\u001b[0m\u001b[0m\n\u001b[1;32m    366\u001b[0m         \"\"\"\n\u001b[0;32m--> 367\u001b[0;31m         return multivariate_normal_frozen(mean, cov,\n\u001b[0m\u001b[1;32m    368\u001b[0m                                           \u001b[0mallow_singular\u001b[0m\u001b[0;34m=\u001b[0m\u001b[0mallow_singular\u001b[0m\u001b[0;34m,\u001b[0m\u001b[0;34m\u001b[0m\u001b[0;34m\u001b[0m\u001b[0m\n\u001b[1;32m    369\u001b[0m                                           seed=seed)\n",
      "\u001b[0;32m~/anaconda3/lib/python3.8/site-packages/scipy/stats/_multivariate.py\u001b[0m in \u001b[0;36m__init__\u001b[0;34m(self, mean, cov, allow_singular, seed, maxpts, abseps, releps)\u001b[0m\n\u001b[1;32m    743\u001b[0m         self.dim, self.mean, self.cov = self._dist._process_parameters(\n\u001b[1;32m    744\u001b[0m                                                             None, mean, cov)\n\u001b[0;32m--> 745\u001b[0;31m         \u001b[0mself\u001b[0m\u001b[0;34m.\u001b[0m\u001b[0mcov_info\u001b[0m \u001b[0;34m=\u001b[0m \u001b[0m_PSD\u001b[0m\u001b[0;34m(\u001b[0m\u001b[0mself\u001b[0m\u001b[0;34m.\u001b[0m\u001b[0mcov\u001b[0m\u001b[0;34m,\u001b[0m \u001b[0mallow_singular\u001b[0m\u001b[0;34m=\u001b[0m\u001b[0mallow_singular\u001b[0m\u001b[0;34m)\u001b[0m\u001b[0;34m\u001b[0m\u001b[0;34m\u001b[0m\u001b[0m\n\u001b[0m\u001b[1;32m    746\u001b[0m         \u001b[0;32mif\u001b[0m \u001b[0;32mnot\u001b[0m \u001b[0mmaxpts\u001b[0m\u001b[0;34m:\u001b[0m\u001b[0;34m\u001b[0m\u001b[0;34m\u001b[0m\u001b[0m\n\u001b[1;32m    747\u001b[0m             \u001b[0mmaxpts\u001b[0m \u001b[0;34m=\u001b[0m \u001b[0;36m1000000\u001b[0m \u001b[0;34m*\u001b[0m \u001b[0mself\u001b[0m\u001b[0;34m.\u001b[0m\u001b[0mdim\u001b[0m\u001b[0;34m\u001b[0m\u001b[0;34m\u001b[0m\u001b[0m\n",
      "\u001b[0;32m~/anaconda3/lib/python3.8/site-packages/scipy/stats/_multivariate.py\u001b[0m in \u001b[0;36m__init__\u001b[0;34m(self, M, cond, rcond, lower, check_finite, allow_singular)\u001b[0m\n\u001b[1;32m    165\u001b[0m         \u001b[0md\u001b[0m \u001b[0;34m=\u001b[0m \u001b[0ms\u001b[0m\u001b[0;34m[\u001b[0m\u001b[0ms\u001b[0m \u001b[0;34m>\u001b[0m \u001b[0meps\u001b[0m\u001b[0;34m]\u001b[0m\u001b[0;34m\u001b[0m\u001b[0;34m\u001b[0m\u001b[0m\n\u001b[1;32m    166\u001b[0m         \u001b[0;32mif\u001b[0m \u001b[0mlen\u001b[0m\u001b[0;34m(\u001b[0m\u001b[0md\u001b[0m\u001b[0;34m)\u001b[0m \u001b[0;34m<\u001b[0m \u001b[0mlen\u001b[0m\u001b[0;34m(\u001b[0m\u001b[0ms\u001b[0m\u001b[0;34m)\u001b[0m \u001b[0;32mand\u001b[0m \u001b[0;32mnot\u001b[0m \u001b[0mallow_singular\u001b[0m\u001b[0;34m:\u001b[0m\u001b[0;34m\u001b[0m\u001b[0;34m\u001b[0m\u001b[0m\n\u001b[0;32m--> 167\u001b[0;31m             \u001b[0;32mraise\u001b[0m \u001b[0mnp\u001b[0m\u001b[0;34m.\u001b[0m\u001b[0mlinalg\u001b[0m\u001b[0;34m.\u001b[0m\u001b[0mLinAlgError\u001b[0m\u001b[0;34m(\u001b[0m\u001b[0;34m'singular matrix'\u001b[0m\u001b[0;34m)\u001b[0m\u001b[0;34m\u001b[0m\u001b[0;34m\u001b[0m\u001b[0m\n\u001b[0m\u001b[1;32m    168\u001b[0m         \u001b[0ms_pinv\u001b[0m \u001b[0;34m=\u001b[0m \u001b[0m_pinv_1d\u001b[0m\u001b[0;34m(\u001b[0m\u001b[0ms\u001b[0m\u001b[0;34m,\u001b[0m \u001b[0meps\u001b[0m\u001b[0;34m)\u001b[0m\u001b[0;34m\u001b[0m\u001b[0;34m\u001b[0m\u001b[0m\n\u001b[1;32m    169\u001b[0m         \u001b[0mU\u001b[0m \u001b[0;34m=\u001b[0m \u001b[0mnp\u001b[0m\u001b[0;34m.\u001b[0m\u001b[0mmultiply\u001b[0m\u001b[0;34m(\u001b[0m\u001b[0mu\u001b[0m\u001b[0;34m,\u001b[0m \u001b[0mnp\u001b[0m\u001b[0;34m.\u001b[0m\u001b[0msqrt\u001b[0m\u001b[0;34m(\u001b[0m\u001b[0ms_pinv\u001b[0m\u001b[0;34m)\u001b[0m\u001b[0;34m)\u001b[0m\u001b[0;34m\u001b[0m\u001b[0;34m\u001b[0m\u001b[0m\n",
      "\u001b[0;31mLinAlgError\u001b[0m: singular matrix"
     ]
    }
   ],
   "source": [
    "multivariate_normal(gmm.means[0],gmm.covs[0])"
   ]
  },
  {
   "cell_type": "code",
   "execution_count": 86,
   "id": "3184ebfd",
   "metadata": {},
   "outputs": [
    {
     "data": {
      "text/plain": [
       "False"
      ]
     },
     "execution_count": 86,
     "metadata": {},
     "output_type": "execute_result"
    }
   ],
   "source": [
    "np.all(np.linalg.eigvals(gmm.covs[0]) > 0)"
   ]
  },
  {
   "cell_type": "code",
   "execution_count": 88,
   "id": "b596324d",
   "metadata": {},
   "outputs": [
    {
     "name": "stderr",
     "output_type": "stream",
     "text": [
      "/home/cslioussarenko/anaconda3/lib/python3.8/site-packages/numpy/core/_asarray.py:102: ComplexWarning: Casting complex values to real discards the imaginary part\n",
      "  return array(a, dtype, copy=False, order=order)\n"
     ]
    },
    {
     "data": {
      "text/plain": [
       "[<matplotlib.lines.Line2D at 0x7f2884591370>]"
      ]
     },
     "execution_count": 88,
     "metadata": {},
     "output_type": "execute_result"
    },
    {
     "data": {
      "image/png": "[encoded data removed]",
      "text/plain": [
       "<Figure size 432x288 with 1 Axes>"
      ]
     },
     "metadata": {
      "needs_background": "light"
     },
     "output_type": "display_data"
    }
   ],
   "source": [
    "plt.plot(np.linalg.eigvals(gmm.covs[1]))"
   ]
  },
  {
   "cell_type": "code",
   "execution_count": null,
   "id": "8ec28ccd",
   "metadata": {},
   "outputs": [],
   "source": []
  }
 ],
 "metadata": {
  "kernelspec": {
   "display_name": "Python 3",
   "language": "python",
   "name": "python3"
  },
  "language_info": {
   "codemirror_mode": {
    "name": "ipython",
    "version": 3
   },
   "file_extension": ".py",
   "mimetype": "text/x-python",
   "name": "python",
   "nbconvert_exporter": "python",
   "pygments_lexer": "ipython3",
   "version": "3.8.8"
  }
 },
 "nbformat": 4,
 "nbformat_minor": 5
}
