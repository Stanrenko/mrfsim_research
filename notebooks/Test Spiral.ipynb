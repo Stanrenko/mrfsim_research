{
 "cells": [
  {
   "cell_type": "code",
   "execution_count": 4,
   "id": "c8eff823",
   "metadata": {},
   "outputs": [],
   "source": [
    "from sigpy.mri import spiral\n",
    "import numpy as np\n",
    "import matplotlib.pyplot as plt\n",
    "%matplotlib inline"
   ]
  },
  {
   "cell_type": "code",
   "execution_count": 5,
   "id": "8ec5db3e",
   "metadata": {},
   "outputs": [
    {
     "name": "stdout",
     "output_type": "stream",
     "text": [
      "Help on function spiral in module sigpy.mri.samp:\n",
      "\n",
      "spiral(fov, N, f_sampling, R, ninterleaves, alpha, gm, sm, gamma=267800000.0)\n",
      "    Generate variable density spiral trajectory.\n",
      "    \n",
      "    Args:\n",
      "        fov (float): field of view in meters.\n",
      "        N (int): effective matrix shape.\n",
      "        f_sampling (float): undersampling factor in freq encoding direction.\n",
      "        R (float): undersampling factor.\n",
      "        ninterleaves (int): number of spiral interleaves\n",
      "        alpha (float): variable density factor\n",
      "        gm (float): maximum gradient amplitude (T/m)\n",
      "        sm (float): maximum slew rate (T/m/s)\n",
      "        gamma (float): gyromagnetic ratio in rad/T/s\n",
      "    \n",
      "    Returns:\n",
      "        array: spiral coordinates.\n",
      "    \n",
      "    References:\n",
      "        Dong-hyun Kim, Elfar Adalsteinsson, and Daniel M. Spielman.\n",
      "        'Simple Analytic Variable Density Spiral Design.' MRM 2003.\n",
      "\n"
     ]
    }
   ],
   "source": [
    "help(spiral)"
   ]
  },
  {
   "cell_type": "code",
   "execution_count": null,
   "id": "3747ae45",
   "metadata": {},
   "outputs": [],
   "source": []
  },
  {
   "cell_type": "code",
   "execution_count": 164,
   "id": "85e2922b",
   "metadata": {},
   "outputs": [],
   "source": [
    "gm = 80*10**-3\n",
    "sm = 200\n",
    "alpha=4\n",
    "k_max=2*np.pi\n",
    "N=256\n",
    "fov = N/k_max\n",
    "ninterleaves = 1\n",
    "R = 7\n",
    "f_sampling=2\n"
   ]
  },
  {
   "cell_type": "code",
   "execution_count": 165,
   "id": "50721172",
   "metadata": {},
   "outputs": [],
   "source": [
    "lambd = k_max/2\n",
    "w=2*np.pi*ninterleaves"
   ]
  },
  {
   "cell_type": "code",
   "execution_count": 166,
   "id": "b8bb5286",
   "metadata": {},
   "outputs": [],
   "source": [
    "Tea = 267800000*gm/(lambd*w)*(alpha+1)"
   ]
  },
  {
   "cell_type": "code",
   "execution_count": 167,
   "id": "4dda1562",
   "metadata": {},
   "outputs": [
    {
     "data": {
      "text/plain": [
       "5426762.595883612"
      ]
     },
     "execution_count": 167,
     "metadata": {},
     "output_type": "execute_result"
    }
   ],
   "source": [
    "Tea"
   ]
  },
  {
   "cell_type": "code",
   "execution_count": 168,
   "id": "198c037b",
   "metadata": {},
   "outputs": [
    {
     "name": "stdout",
     "output_type": "stream",
     "text": [
      "0.0011488930917446297\n"
     ]
    }
   ],
   "source": [
    "test=spiral(fov, N, f_sampling, R, ninterleaves, alpha, gm, sm)"
   ]
  },
  {
   "cell_type": "code",
   "execution_count": 169,
   "id": "57becb00",
   "metadata": {},
   "outputs": [
    {
     "data": {
      "text/plain": [
       "(489, 2)"
      ]
     },
     "execution_count": 169,
     "metadata": {},
     "output_type": "execute_result"
    }
   ],
   "source": [
    "test.shape"
   ]
  },
  {
   "cell_type": "code",
   "execution_count": 170,
   "id": "fb5f0910",
   "metadata": {},
   "outputs": [
    {
     "data": {
      "text/plain": [
       "4376"
      ]
     },
     "execution_count": 170,
     "metadata": {},
     "output_type": "execute_result"
    }
   ],
   "source": [
    "547*8"
   ]
  },
  {
   "cell_type": "code",
   "execution_count": 171,
   "id": "356a1086",
   "metadata": {},
   "outputs": [
    {
     "data": {
      "text/plain": [
       "<matplotlib.collections.PathCollection at 0x7f13e8ec3eb0>"
      ]
     },
     "execution_count": 171,
     "metadata": {},
     "output_type": "execute_result"
    },
    {
     "data": {
      "image/png": "[encoded data removed]",
      "text/plain": [
       "<Figure size 432x288 with 1 Axes>"
      ]
     },
     "metadata": {
      "needs_background": "light"
     },
     "output_type": "display_data"
    }
   ],
   "source": [
    "plt.scatter(x=test[:,0],y=test[:,1])"
   ]
  },
  {
   "cell_type": "code",
   "execution_count": 1,
   "id": "69621c42",
   "metadata": {},
   "outputs": [
    {
     "ename": "NameError",
     "evalue": "name 'test' is not defined",
     "output_type": "error",
     "traceback": [
      "\u001b[0;31m---------------------------------------------------------------------------\u001b[0m",
      "\u001b[0;31mNameError\u001b[0m                                 Traceback (most recent call last)",
      "\u001b[0;32m<ipython-input-1-8ae592785626>\u001b[0m in \u001b[0;36m<module>\u001b[0;34m\u001b[0m\n\u001b[0;32m----> 1\u001b[0;31m \u001b[0mtest\u001b[0m\u001b[0;34m.\u001b[0m\u001b[0mshape\u001b[0m\u001b[0;34m\u001b[0m\u001b[0;34m\u001b[0m\u001b[0m\n\u001b[0m",
      "\u001b[0;31mNameError\u001b[0m: name 'test' is not defined"
     ]
    }
   ],
   "source": [
    "test_rotated = "
   ]
  },
  {
   "cell_type": "code",
   "execution_count": 2,
   "id": "12ac4424",
   "metadata": {},
   "outputs": [
    {
     "ename": "NameError",
     "evalue": "name 'test' is not defined",
     "output_type": "error",
     "traceback": [
      "\u001b[0;31m---------------------------------------------------------------------------\u001b[0m",
      "\u001b[0;31mNameError\u001b[0m                                 Traceback (most recent call last)",
      "\u001b[0;32m<ipython-input-2-8ae592785626>\u001b[0m in \u001b[0;36m<module>\u001b[0;34m\u001b[0m\n\u001b[0;32m----> 1\u001b[0;31m \u001b[0mtest\u001b[0m\u001b[0;34m.\u001b[0m\u001b[0mshape\u001b[0m\u001b[0;34m\u001b[0m\u001b[0;34m\u001b[0m\u001b[0m\n\u001b[0m",
      "\u001b[0;31mNameError\u001b[0m: name 'test' is not defined"
     ]
    }
   ],
   "source": [
    "test.shape"
   ]
  },
  {
   "cell_type": "code",
   "execution_count": 3,
   "id": "c0289410",
   "metadata": {},
   "outputs": [
    {
     "ename": "NameError",
     "evalue": "name 'fov' is not defined",
     "output_type": "error",
     "traceback": [
      "\u001b[0;31m---------------------------------------------------------------------------\u001b[0m",
      "\u001b[0;31mNameError\u001b[0m                                 Traceback (most recent call last)",
      "\u001b[0;32m<ipython-input-3-6bacd5cce236>\u001b[0m in \u001b[0;36m<module>\u001b[0;34m\u001b[0m\n\u001b[0;32m----> 1\u001b[0;31m \u001b[0mfov\u001b[0m\u001b[0;34m\u001b[0m\u001b[0;34m\u001b[0m\u001b[0m\n\u001b[0m",
      "\u001b[0;31mNameError\u001b[0m: name 'fov' is not defined"
     ]
    }
   ],
   "source": [
    "fov"
   ]
  },
  {
   "cell_type": "code",
   "execution_count": null,
   "id": "77df28b2",
   "metadata": {},
   "outputs": [],
   "source": []
  },
  {
   "cell_type": "code",
   "execution_count": null,
   "id": "633bc3ab",
   "metadata": {},
   "outputs": [],
   "source": []
  }
 ],
 "metadata": {
  "kernelspec": {
   "display_name": "Python 3",
   "language": "python",
   "name": "python3"
  },
  "language_info": {
   "codemirror_mode": {
    "name": "ipython",
    "version": 3
   },
   "file_extension": ".py",
   "mimetype": "text/x-python",
   "name": "python",
   "nbconvert_exporter": "python",
   "pygments_lexer": "ipython3",
   "version": "3.8.8"
  }
 },
 "nbformat": 4,
 "nbformat_minor": 5
}
