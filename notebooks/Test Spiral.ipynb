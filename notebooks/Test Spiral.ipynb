{
 "cells": [
  {
   "cell_type": "code",
   "execution_count": 4,
   "id": "eb5a340b",
   "metadata": {},
   "outputs": [],
   "source": [
    "from sigpy.mri import spiral\n",
    "import numpy as np\n",
    "import matplotlib.pyplot as plt\n",
    "%matplotlib inline"
   ]
  },
  {
   "cell_type": "code",
   "execution_count": 2,
   "id": "7fb0d782",
   "metadata": {},
   "outputs": [
    {
     "name": "stdout",
     "output_type": "stream",
     "text": [
      "Help on function spiral in module sigpy.mri.samp:\n",
      "\n",
      "spiral(fov, N, f_sampling, R, ninterleaves, alpha, gm, sm, gamma=267800000.0)\n",
      "    Generate variable density spiral trajectory.\n",
      "    \n",
      "    Args:\n",
      "        fov (float): field of view in meters.\n",
      "        N (int): effective matrix shape.\n",
      "        f_sampling (float): undersampling factor in freq encoding direction.\n",
      "        R (float): undersampling factor.\n",
      "        ninterleaves (int): number of spiral interleaves\n",
      "        alpha (float): variable density factor\n",
      "        gm (float): maximum gradient amplitude (T/m)\n",
      "        sm (float): maximum slew rate (T/m/s)\n",
      "        gamma (float): gyromagnetic ratio in rad/T/s\n",
      "    \n",
      "    Returns:\n",
      "        array: spiral coordinates.\n",
      "    \n",
      "    References:\n",
      "        Dong-hyun Kim, Elfar Adalsteinsson, and Daniel M. Spielman.\n",
      "        'Simple Analytic Variable Density Spiral Design.' MRM 2003.\n",
      "\n"
     ]
    }
   ],
   "source": [
    "help(spiral)"
   ]
  },
  {
   "cell_type": "code",
   "execution_count": 88,
   "id": "12ab8b84",
   "metadata": {},
   "outputs": [],
   "source": [
    "gm = 80*10**-3\n",
    "sm = 200\n",
    "alpha=10\n",
    "k_max=2*np.pi\n",
    "N=256\n",
    "fov = N/k_max\n",
    "ninterleaves = 1\n",
    "R = 4\n",
    "f_sampling=2\n"
   ]
  },
  {
   "cell_type": "code",
   "execution_count": 89,
   "id": "b8f33c0c",
   "metadata": {},
   "outputs": [],
   "source": [
    "test=spiral(fov, N, f_sampling, R, ninterleaves, alpha, gm, sm)"
   ]
  },
  {
   "cell_type": "code",
   "execution_count": 90,
   "id": "d88c3af0",
   "metadata": {},
   "outputs": [
    {
     "data": {
      "text/plain": [
       "<matplotlib.collections.PathCollection at 0x7ff6782f8e80>"
      ]
     },
     "execution_count": 90,
     "metadata": {},
     "output_type": "execute_result"
    },
    {
     "data": {
      "image/png": "[encoded data removed]",
      "text/plain": [
       "<Figure size 432x288 with 1 Axes>"
      ]
     },
     "metadata": {
      "needs_background": "light"
     },
     "output_type": "display_data"
    }
   ],
   "source": [
    "plt.scatter(x=test[:,0],y=test[:,1])"
   ]
  },
  {
   "cell_type": "code",
   "execution_count": 91,
   "id": "4b5fb35a",
   "metadata": {},
   "outputs": [
    {
     "data": {
      "text/plain": [
       "(472, 2)"
      ]
     },
     "execution_count": 91,
     "metadata": {},
     "output_type": "execute_result"
    }
   ],
   "source": [
    "test.shape"
   ]
  },
  {
   "cell_type": "code",
   "execution_count": 32,
   "id": "8f6a9997",
   "metadata": {},
   "outputs": [
    {
     "data": {
      "text/plain": [
       "(80, 2)"
      ]
     },
     "execution_count": 32,
     "metadata": {},
     "output_type": "execute_result"
    }
   ],
   "source": [
    "test.shape"
   ]
  },
  {
   "cell_type": "code",
   "execution_count": 6,
   "id": "442301f2",
   "metadata": {},
   "outputs": [
    {
     "data": {
      "text/plain": [
       "40.74366543152521"
      ]
     },
     "execution_count": 6,
     "metadata": {},
     "output_type": "execute_result"
    }
   ],
   "source": [
    "fov"
   ]
  },
  {
   "cell_type": "code",
   "execution_count": null,
   "id": "f16e750d",
   "metadata": {},
   "outputs": [],
   "source": []
  }
 ],
 "metadata": {
  "kernelspec": {
   "display_name": "Python 3",
   "language": "python",
   "name": "python3"
  },
  "language_info": {
   "codemirror_mode": {
    "name": "ipython",
    "version": 3
   },
   "file_extension": ".py",
   "mimetype": "text/x-python",
   "name": "python",
   "nbconvert_exporter": "python",
   "pygments_lexer": "ipython3",
   "version": "3.8.8"
  }
 },
 "nbformat": 4,
 "nbformat_minor": 5
}
